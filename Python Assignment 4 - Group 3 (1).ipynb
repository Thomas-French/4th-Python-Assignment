{
 "cells": [
  {
   "cell_type": "markdown",
   "id": "61bb113b",
   "metadata": {},
   "source": [
    "<h1 style=\"text-align:center\">Weekly Python Assignment 4 - Group 3</h1>"
   ]
  },
  {
   "cell_type": "markdown",
   "id": "fecc587c",
   "metadata": {},
   "source": [
    "<strong>Instructions:</strong> For each exercise below, type the requested code into the cell below the exercise, then run your code to verify that it works correctly."
   ]
  },
  {
   "cell_type": "markdown",
   "id": "abc8945f",
   "metadata": {},
   "source": [
    "1\\. Use a dictionary comprehension to create the following dictionary:\n",
    "\n",
    "{ 'bonds':762, 'aaron':755, 'ruth':714, 'rodriguez':696, 'pujols':684, 'mays':660, 'griffey_jr':630, 'thome':612, 'sosa':609, 'robinson':586 }\n",
    "\n",
    "Then use a dictionary comprehension to filter this dictionary to create a second dictionary containing only names beginning with the letter \"r\"."
   ]
  },
  {
   "cell_type": "code",
   "execution_count": 11,
   "id": "fcd4b43f",
   "metadata": {},
   "outputs": [
    {
     "name": "stdout",
     "output_type": "stream",
     "text": [
      "{'bonds': 762, 'aaron': 755, 'ruth': 714, 'rodriguez': 696, 'pujols': 684, 'mays': 660, 'griffey_jr': 630, 'thome': 612, 'sosa': 609, 'robinson': 586}\n",
      "{'ruth': 714, 'rodriguez': 696, 'robinson': 586}\n"
     ]
    }
   ],
   "source": [
    "dict1={ 'bonds':762, 'aaron':755, 'ruth':714, 'rodriguez':696, 'pujols':684, 'mays':660, 'griffey_jr':630, 'thome':612, 'sosa':609, 'robinson':586 }\n",
    "print(dict1)#printing the list after creating it\n",
    "\n",
    "new_dict1 = {k:v for (k,v) in dict1.items() if k[0]==\"r\"} #for every (key and value) in dictionary if the first letter of the name is r add to new list\n",
    "\n",
    "print(new_dict1)#printing new list"
   ]
  },
  {
   "cell_type": "markdown",
   "id": "7ab99e43",
   "metadata": {},
   "source": [
    "2\\. Write a function that accepts two parameters, a number and a list.  The function looks for the number in the list.  If it is in the list, the function returns a list with the index number or numbers where it is found (because the number may be in the list more than one time).  If it is not in the list, the function returns an empty list."
   ]
  },
  {
   "cell_type": "code",
   "execution_count": 12,
   "id": "b4b44e4d",
   "metadata": {},
   "outputs": [
    {
     "data": {
      "text/plain": [
       "[3]"
      ]
     },
     "execution_count": 12,
     "metadata": {},
     "output_type": "execute_result"
    }
   ],
   "source": [
    "list1=[3,4,3,2,8,9,7,6,4,3] #example list\n",
    "num=2#example number being checked\n",
    "\n",
    "def whereinlist(i,l):#function taking in a int and a list\n",
    "    returnlist=[]#creating list of indexs\n",
    "    for j in range(len(l)):#for every index of the list\n",
    "        if i == l[j]:#if the value at that index is the number being checked\n",
    "            returnlist.append(j)#add the index to list of indexs\n",
    "    return(returnlist)#return list of indexs\n",
    "\n",
    "whereinlist(num,list1)#running the function with an example number and list"
   ]
  },
  {
   "cell_type": "markdown",
   "id": "0bdaa9d4",
   "metadata": {},
   "source": [
    "3\\. Create a function that accepts a dictionary as a parameter.  Inside the function, check if the key 'a' is in the dictionary.  If it is, print it's corresponding value.  If it is not, assign it the value 0 and then print it's value."
   ]
  },
  {
   "cell_type": "code",
   "execution_count": 5,
   "id": "cb53c34c",
   "metadata": {},
   "outputs": [
    {
     "name": "stdout",
     "output_type": "stream",
     "text": [
      "437\n",
      "{'ab': 834, 'blah': 292, 'rip': 43, 'g': 51, 'a': 0}\n"
     ]
    }
   ],
   "source": [
    "dict1={\"ab\":834,\"a\":437,\"blah\":292,\"rip\":43,\"g\":51}\n",
    "dict2={\"ab\":834,\"blah\":292,\"rip\":43,\"g\":51}\n",
    "def acheck (d):\n",
    "    if \"a\" in d.keys():\n",
    "        A=[v for (k,v) in d.items() if k==\"a\"]\n",
    "        print(A[0])\n",
    "    elif \"a\" not in d.keys():        \n",
    "        d.update({\"a\": 0})\n",
    "        print(d)\n",
    "\n",
    "acheck(dict1)\n",
    "acheck(dict2)"
   ]
  },
  {
   "cell_type": "markdown",
   "id": "40487676",
   "metadata": {},
   "source": [
    "4\\. Write code that demonstrates that simple variables are passed by value, while lists, dictionaries, etc. are passed by reference.  Show the results for a simple variable, a list, and a dictionary."
   ]
  },
  {
   "cell_type": "code",
   "execution_count": 57,
   "id": "fb057a0a",
   "metadata": {},
   "outputs": [
    {
     "name": "stdout",
     "output_type": "stream",
     "text": [
      "The ints y and x are identical\n",
      "The id for x:(4564491280) and id for y:(4564491280) are the same\n",
      "\n",
      "This lists list1 and list2 are identical\n",
      "The id for list1:(4649248128) and id for list2:(4649318656) are not the same\n",
      "\n",
      "This lists dict1 and dict2 are identical\n",
      "The id for list1:(4649541504) and id for list2:(4649540544) are not the same\n"
     ]
    }
   ],
   "source": [
    "x=10\n",
    "y=10\n",
    "list1=[0,1,2]\n",
    "list2=[0,1,2]\n",
    "dict1={\"a\":1,\"b\":2,\"c\":3}\n",
    "dict2={\"a\":1,\"b\":2,\"c\":3}\n",
    "\n",
    "print(f\"The ints y and x are identical\\nThe id for x:({id(x)}) and id for y:({id(y)}) are the same\\n\")\n",
    "#the ids of the two ints are the same because simple variables are passed by values\n",
    "print(f\"This lists list1 and list2 are identical\\nThe id for list1:({id(list1)}) and id for list2:({id(list2)}) are not the same\\n\")\n",
    "#the ids of the lists are different because they are passed by reference which is not dependent on values in list\n",
    "print(f\"This lists dict1 and dict2 are identical\\nThe id for list1:({id(dict1)}) and id for list2:({id(dict2)}) are not the same\")\n",
    "#the ids of the dictionaries are different because they are passed by reference which is not dependent on values in dict"
   ]
  },
  {
   "cell_type": "markdown",
   "id": "cdf30cd1",
   "metadata": {},
   "source": [
    "5\\. Write code that demonstrates variable scope by showing that global variables are visible within functions but are immutable unless the <strong>global</strong> keyword is used, while function variables are not visible outside functions."
   ]
  },
  {
   "cell_type": "code",
   "execution_count": 11,
   "id": "9312d4a5",
   "metadata": {},
   "outputs": [
    {
     "name": "stdout",
     "output_type": "stream",
     "text": [
      "x = changed\n",
      "x = unchanged\n",
      "\n",
      "x = changed\n",
      "x = changed\n"
     ]
    }
   ],
   "source": [
    "x = \"unchanged\"\n",
    "\n",
    "def myfunc():\n",
    "    x = \"changed\" #the x is unchanged and is a different one inside the function\n",
    "    print(\"x = \" + x) #when the code is run the originial x will not be printed\n",
    "\n",
    "myfunc()\n",
    "print(\"x = \" + x+\"\\n\")#the x remains unchanged bc it is not \n",
    "\n",
    "def myfunc2():\n",
    "    global x\n",
    "    x = \"changed\" #the x is changed bc is glable variable \n",
    "    print(\"x = \" + x) #when the code is run the originial x will be printed\n",
    "\n",
    "myfunc2()\n",
    "print(\"x = \" + x)#the x changes because it is global"
   ]
  },
  {
   "cell_type": "markdown",
   "id": "a9c7b2e4",
   "metadata": {},
   "source": [
    "6\\. Write code that accepts a functional expression and two values from the user.  These two points bound a zero of the functional expression, so that the expression evaluates negative for one point and positive for the other.  Implement a simple version of the midpoint method by evaluating the expression at the midpoint and seeing if it is positive or negative, and then replacing the appropriate point with the midpoint.  Repeat this procedure until the points are within .001 of each other. Test your code on the following functions:\n",
    "\n",
    "f(x) = x<sup>2</sup> + 2x -3  (bounding values 0, 2)<p>\n",
    "f(x) = x<sup>4</sup> - 2x<sup>3</sup> + x - 10 (bounding values 0, 5)<p>\n",
    "f(x) = e<sup>x</sup> + 2x - 7   (bounding values 1,3) "
   ]
  },
  {
   "cell_type": "code",
   "execution_count": 14,
   "id": "0910f978",
   "metadata": {},
   "outputs": [
    {
     "name": "stdout",
     "output_type": "stream",
     "text": [
      "insert your function\n"
     ]
    },
    {
     "name": "stdin",
     "output_type": "stream",
     "text": [
      " fdijsn\n"
     ]
    },
    {
     "name": "stdout",
     "output_type": "stream",
     "text": [
      "insert your 1st value\n"
     ]
    },
    {
     "name": "stdin",
     "output_type": "stream",
     "text": [
      " \n"
     ]
    },
    {
     "name": "stdout",
     "output_type": "stream",
     "text": [
      "insert your 2nd value\n"
     ]
    },
    {
     "name": "stdin",
     "output_type": "stream",
     "text": [
      " \n"
     ]
    }
   ],
   "source": [
    "print(\"insert your function\")\n",
    "function=input()\n",
    "print(\"insert your 1st value\")\n",
    "a=input()\n",
    "print(\"insert your 2nd value\")\n",
    "b=input()\n",
    "\n",
    "def midpoint (function,a,b):\n",
    "    first=function(a)\n",
    "    second=function(b)\n",
    "    return((a+b)/2)"
   ]
  },
  {
   "cell_type": "code",
   "execution_count": null,
   "id": "0663a54b-0815-4f5c-ab9d-a833a93e7528",
   "metadata": {},
   "outputs": [],
   "source": []
  }
 ],
 "metadata": {
  "kernelspec": {
   "display_name": "Python 3 (ipykernel)",
   "language": "python",
   "name": "python3"
  },
  "language_info": {
   "codemirror_mode": {
    "name": "ipython",
    "version": 3
   },
   "file_extension": ".py",
   "mimetype": "text/x-python",
   "name": "python",
   "nbconvert_exporter": "python",
   "pygments_lexer": "ipython3",
   "version": "3.8.2"
  }
 },
 "nbformat": 4,
 "nbformat_minor": 5
}
