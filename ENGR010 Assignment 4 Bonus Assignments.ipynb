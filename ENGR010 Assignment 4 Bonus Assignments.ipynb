{
 "cells": [
  {
   "cell_type": "markdown",
   "id": "f4f05f19",
   "metadata": {},
   "source": [
    "<h2 align=\"center\">Weekly Assignment 4: Unit Conversions - Bonus Assignments</h2>"
   ]
  },
  {
   "cell_type": "markdown",
   "id": "a0c3ed8f",
   "metadata": {},
   "source": [
    "**Bonus Assignment 1**"
   ]
  },
  {
   "cell_type": "markdown",
   "id": "03b9a2fd",
   "metadata": {},
   "source": [
    "I plan to create two functions: temperature converter and meter to inch converter. Then I will create a function \"convert\" which will take a given function, in this case either the temperature converter or the meter-inch converter, and a value and return the value after it is run through the function."
   ]
  },
  {
   "cell_type": "code",
   "execution_count": 7,
   "id": "9cd1b287-ae44-4ba2-92c4-ce709308875b",
   "metadata": {},
   "outputs": [
    {
     "name": "stdout",
     "output_type": "stream",
     "text": [
      "39.3701\n",
      "22.22222222222222\n"
     ]
    }
   ],
   "source": [
    "def ftoc(amt):#fahrenheit to celcius function\n",
    "    return((amt-32)*(5/9))\n",
    "def meterinch (m):#meter to inch function\n",
    "    return(round(m*39.3701,4))\n",
    "\n",
    "def convert(funct,amt):#take a function and a value\n",
    "    return(funct(amt))#return the value after running it through the given function\n",
    "\n",
    "print(convert(meterinch,1))\n",
    "print(convert(ftoc,72))\n"
   ]
  },
  {
   "cell_type": "markdown",
   "id": "1f4ad903",
   "metadata": {},
   "source": [
    "\"convert2\" will be a function that will do the same thing as \"convert\" but it will use the horsepower to watts converter function and will take the values as a list instead of returning value by value. It will do this with a for loop inside the function."
   ]
  },
  {
   "cell_type": "code",
   "execution_count": 12,
   "id": "9b39fb0f-78b6-4092-9118-bf90a9eccbea",
   "metadata": {},
   "outputs": [
    {
     "name": "stdout",
     "output_type": "stream",
     "text": [
      "{5: 3728.5, 32: 23862.4, 27: 20133.9}\n"
     ]
    }
   ],
   "source": [
    "def horsewatts(amt):#horsepower to watts function\n",
    "    return(amt*745.7)\n",
    "\n",
    "def convert2(lis,funct):#take a list of values and a function\n",
    "    dict1={}#creating dictionary\n",
    "    for i in range(len(lis)):#for every value in the list of values\n",
    "        dict1.update({lis[i]:funct(lis[i])})#add to the dictionary the original and function calculated values as the key and the value\n",
    "    return(dict1)#return the dictionary after going through the list\n",
    "\n",
    "list1=[5,32,27]#list of values\n",
    "print(convert2(list1,horsewatts))#checking the values of the list for horsepower to watts"
   ]
  },
  {
   "cell_type": "markdown",
   "id": "cfcce60e",
   "metadata": {},
   "source": [
    "**Bonus Assignment 2**"
   ]
  },
  {
   "cell_type": "markdown",
   "id": "04a64c67",
   "metadata": {},
   "source": [
    "This function will take a list of tuples. Each of the tuples will contain a intial value and the function to be used as a string. The function will go through the list and for each tuple the function will use eval() to convert the strings into function. It will then calculate the final value given the function and create a dictionary with the tuple for the key and the calculated value as the value of the dictionary."
   ]
  },
  {
   "cell_type": "code",
   "execution_count": 14,
   "id": "a2ecb39e",
   "metadata": {},
   "outputs": [
    {
     "name": "stdout",
     "output_type": "stream",
     "text": [
      "{(5, 'horsewatts'): 3728.5, (3, 'ftoc'): -16.11111111111111, (2, 'meterinch'): 78.7402}\n"
     ]
    }
   ],
   "source": [
    "def convert3(tuplist):#function that takes in list\n",
    "    dict1={}#creating dictionary\n",
    "    for i in range(len(tuplist)):#for every item in list\n",
    "        func=eval(tuplist[i][1])#make the function be the function for that point of the list\n",
    "        dict1.update({tuplist[i]:func(tuplist[i][0])})#add the tuple as a key to the list and the value throught the function as the value\n",
    "    return(dict1)#return the dictionary after going through all items in the list\n",
    "\n",
    "list1=[(5,\"horsewatts\"),(3,\"ftoc\"),(2,\"meterinch\")]#list of tuples\n",
    "print(convert3(list1))"
   ]
  }
 ],
 "metadata": {
  "kernelspec": {
   "display_name": "Python 3 (ipykernel)",
   "language": "python",
   "name": "python3"
  },
  "language_info": {
   "codemirror_mode": {
    "name": "ipython",
    "version": 3
   },
   "file_extension": ".py",
   "mimetype": "text/x-python",
   "name": "python",
   "nbconvert_exporter": "python",
   "pygments_lexer": "ipython3",
   "version": "3.8.2"
  }
 },
 "nbformat": 4,
 "nbformat_minor": 5
}
