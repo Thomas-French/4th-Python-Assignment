{
 "cells": [
  {
   "cell_type": "markdown",
   "id": "f4f05f19",
   "metadata": {},
   "source": [
    "<h2 align=\"center\">Weekly Assignment 4: Unit Conversions</h2>"
   ]
  },
  {
   "cell_type": "markdown",
   "id": "52937a56",
   "metadata": {},
   "source": [
    "**1. Simple conversion functions**"
   ]
  },
  {
   "cell_type": "markdown",
   "id": "dd92a08f",
   "metadata": {},
   "source": [
    "Our boss wants us to create function(s) that will convert inches to meters and meters to inches. We will create multiple functions to show pro's and con's of different structures. The first functions will be two functions one for meters to inches and the other for inches to meters. "
   ]
  },
  {
   "cell_type": "code",
   "execution_count": 24,
   "id": "c62e5267",
   "metadata": {},
   "outputs": [],
   "source": [
    "def meterinch (m):#meters to inches\n",
    "    return(round(m*39.3701,4))"
   ]
  },
  {
   "cell_type": "code",
   "execution_count": 25,
   "id": "aa0c4c47",
   "metadata": {},
   "outputs": [],
   "source": [
    "def inchmeter (i): #inches to meters\n",
    "    return(round(i/39.3701,4))"
   ]
  },
  {
   "cell_type": "code",
   "execution_count": 48,
   "id": "ba5af90b",
   "metadata": {},
   "outputs": [
    {
     "name": "stdout",
     "output_type": "stream",
     "text": [
      "39.3701\n",
      "0.0254\n",
      "3937.01\n",
      "2.54\n",
      "1574.804\n",
      "1.016\n"
     ]
    }
   ],
   "source": [
    "#The function on three different values and printing the results\n",
    "print(meterinch(1))\n",
    "print(inchmeter(1))\n",
    "print(meterinch(100))\n",
    "print(inchmeter(100))\n",
    "print(meterinch(40))\n",
    "print(inchmeter(40))"
   ]
  },
  {
   "cell_type": "markdown",
   "id": "bc6b845e",
   "metadata": {},
   "source": [
    "**2. Two-way Conversion Functions**"
   ]
  },
  {
   "cell_type": "markdown",
   "id": "33d0c348",
   "metadata": {},
   "source": [
    "We will now create a function that takes in the intial value and the unit of the intial value. We will then use if elif else structure to decide how to correctly convert the intial value to the final calculated value. We will the return the calculated value."
   ]
  },
  {
   "cell_type": "code",
   "execution_count": 27,
   "id": "de75450e",
   "metadata": {},
   "outputs": [],
   "source": [
    "def metin(amt,unit):#take in a value and a string for starting unit\n",
    "    if(unit==\"meter\"):#if we start as a meter\n",
    "        return(round(amt*39.3701,4)) #calculate and return the inch value\n",
    "    elif(unit==\"inch\"):#if we start as an inch\n",
    "        return(round(amt/39.3701,4))#calculate and return the meter value\n",
    "    else:#if we can determine the unit to convert\n",
    "        return(\"invalid measure\")#return the unit is invalid"
   ]
  },
  {
   "cell_type": "code",
   "execution_count": 28,
   "id": "d4587381-f298-428e-a5de-2397719713ab",
   "metadata": {},
   "outputs": [
    {
     "name": "stdout",
     "output_type": "stream",
     "text": [
      "39.3701\n",
      "0.0254\n",
      "0.0394\n",
      "2.54\n",
      "59.0551\n",
      "1.016\n"
     ]
    }
   ],
   "source": [
    "#  Six test cases, confirming the correctness of the code\n",
    "print(metin(1,\"meter\"))\n",
    "print(metin(1,\"inch\"))\n",
    "print(metin(.001,\"meter\"))\n",
    "print(metin(100,\"inch\"))\n",
    "print(metin(1.5,\"meter\"))\n",
    "print(metin(40,\"inch\"))"
   ]
  },
  {
   "cell_type": "markdown",
   "id": "4ff8695e",
   "metadata": {},
   "source": [
    "**3. A Single Conversion Function for lengths, areas and volumes**"
   ]
  },
  {
   "cell_type": "markdown",
   "id": "8986fd2c",
   "metadata": {},
   "source": [
    "** Now you only need to write 3 functions.  Can you combine things even more? Write a single function that can also handle area and volume conversions, using the same logic as in the previous case."
   ]
  },
  {
   "cell_type": "markdown",
   "id": "32a78243",
   "metadata": {},
   "source": [
    "This function will convert meters and inches but it will work for length, area, and volume. The function will take the same structure as the function above but it will also take dimmensions as a parameter. It will then use the dimmensions to while calculating to return the correct value by raising the conversion factor by the number fo dimmensions. "
   ]
  },
  {
   "cell_type": "code",
   "execution_count": 50,
   "id": "e0eb1d91",
   "metadata": {},
   "outputs": [
    {
     "name": "stdout",
     "output_type": "stream",
     "text": [
      "39.3701\n",
      "0.0254\n",
      "155000.4774\n",
      "0.0645\n",
      "6102384.2953\n",
      "0.0016\n"
     ]
    }
   ],
   "source": [
    "#  Your function that can convert SI length, area or volume units to EEU units and vice versa\n",
    "def metintype(amt,unit,dim):#take in intial value, unit, and dimmension\n",
    "    \n",
    "    if(unit==\"meter\"):#if start with meter\n",
    "        return(round(amt*(39.3701**dim),4))#convert by factor raised to dimmension #round to the 4th decimal for conciseness\n",
    "    elif(unit==\"inch\"):#if start with inch\n",
    "        return(round(amt/(39.3701**dim),4))#convert by factor raised to dimmension #round to the 4th decimal for conciseness\n",
    "    else:#if we can determine the unit to convert\n",
    "        return(\"invalid measure\")#return the unit is invalid\n",
    "\n",
    "#testing the function using all dimmensions\n",
    "print(metintype(1,\"meter\",1))\n",
    "print(metintype(1,\"inch\",1))\n",
    "print(metintype(100,\"meter\",2))\n",
    "print(metintype(100,\"inch\",2))\n",
    "print(metintype(100,\"meter\",3))\n",
    "print(metintype(100,\"inch\",3))\n"
   ]
  },
  {
   "cell_type": "markdown",
   "id": "d3657539",
   "metadata": {},
   "source": [
    "**4. A Single Conversion Function for length, area and volume**"
   ]
  },
  {
   "cell_type": "markdown",
   "id": "9169d05c",
   "metadata": {},
   "source": [
    "This function will be the exact same as the function above but it will also be able to accept celcius and fahrenheit as units. The structure will just add two more if statements to check for the temperature units. "
   ]
  },
  {
   "cell_type": "code",
   "execution_count": 34,
   "id": "f3b2a6ba-a822-4973-baa7-4228564beffa",
   "metadata": {},
   "outputs": [
    {
     "name": "stdout",
     "output_type": "stream",
     "text": [
      "-40.0\n",
      "-40.0\n",
      "212.0\n",
      "0.0\n"
     ]
    }
   ],
   "source": [
    "def tempmetintype(amt,unit,dim):#take in intial value, unit, and dimmension\n",
    "    if(unit==\"celcius\"):#if start with celcius\n",
    "        return(round((amt*1.8)+32,4))#convert by factor#round to the 4th decimal for conciseness\n",
    "    elif(unit==\"fahrenheit\"):#if start with fahrenheit\n",
    "        return(round((amt-32)*(5/9),4))#convert by factor#round to the 4th decimal for conciseness\n",
    "    elif(unit==\"meter\"):#if start with meter\n",
    "        return(round(amt*(39.3701**dim),4))#convert by factor raised to dimmension#round to the 4th decimal for conciseness\n",
    "    elif(unit==\"inch\"):#if start with inch\n",
    "        return(round(amt/(39.3701**dim),4))#convert by factor raised to dimmension#round to the 4th decimal for conciseness\n",
    "    else:#if we can determine the unit to convert\n",
    "        return(\"invalid measure\")#return the unit is invalid\n",
    "    \n",
    "#testing the function with temperature examples\n",
    "print(tempmetintype(-40,\"celcius\",0))\n",
    "print(tempmetintype(-40,\"fahrenheit\",0))\n",
    "print(tempmetintype(100,\"celcius\",0))\n",
    "print(tempmetintype(32,\"fahrenheit\",0))"
   ]
  },
  {
   "cell_type": "markdown",
   "id": "67420dd5",
   "metadata": {},
   "source": [
    "The functions all complete the tasks that they were specified but around the point when temperature got added it was messy and difficult to understand the code. The structure I would recommend would be the one with units and dimmensions. This is because dimmensions is very small addition and the function is still reasonable but once you add two completely new conversions you should have another function for those calculations. \n",
    "\n",
    "This allows the functions to be easily grouped and understood by the initial and final unit they are converting. I would normally say a different function for meters to inches and inches to meters but when it is grouped the way I suggest multiple dimmensions can easily be in one function without creating extra if structures."
   ]
  },
  {
   "cell_type": "markdown",
   "id": "dde8f675",
   "metadata": {},
   "source": [
    "**5. Convert a whole list of values**"
   ]
  },
  {
   "cell_type": "markdown",
   "id": "b94518db",
   "metadata": {},
   "source": [
    "This function will do the same thing as the function above but it will convert values by list instead of value by value. The function will also return a dictionary with initial values as keys and final values as values. A local dictionary will be intiated in the function and a for loop the length of the list will run the function for every value in the list and add the correct values to the dictionary. "
   ]
  },
  {
   "cell_type": "code",
   "execution_count": 47,
   "id": "98c672a5",
   "metadata": {},
   "outputs": [
    {
     "name": "stdout",
     "output_type": "stream",
     "text": [
      "{5: -15.0, 1: -17.2222, 60: 15.5556}\n"
     ]
    }
   ],
   "source": [
    "def tempmetintype(unit,amtlist):#takes in unit and list of values\n",
    "    dict1={}#creating dictionary to return\n",
    "    for i in range(len(amtlist)):#for every value in the list to calculate\n",
    "        if(unit==\"celcius\"):#check which unit to calculate from\n",
    "            dict1.update({amtlist[i]:(round((amtlist[i]*1.8)+32,4))})#add to the dictionary the intial value as the key and the calculated value as the value\n",
    "        elif(unit==\"fahrenheit\"):#same for every unit calculation\n",
    "            dict1.update({amtlist[i]:(round((amtlist[i]-32)*(5/9),4))})\n",
    "        elif(unit==\"meter\"):#\n",
    "            dict1.update({amtlist[i]:(round(amtlist[i]*(39.3701),4))})\n",
    "        elif(unit==\"inch\"):#\n",
    "            dict1.update({amtlist[i]:(round(amtlist[i]/(39.3701),4))})\n",
    "        else:\n",
    "            return(\"invalid measure\")\n",
    "    return(dict1)#return the dictionary after going through every value in the list\n",
    "\n",
    "list1=[5,1,60]\n",
    "dict1=tempmetintype(\"fahrenheit\",list1)\n",
    "\n",
    "print(dict1)"
   ]
  },
  {
   "cell_type": "markdown",
   "id": "a2836926",
   "metadata": {},
   "source": [
    "During this project I learned how to create functions with different complexities of structures. I learned how to run create a dictionary with complex values. I learned how to add to an already created dictionary. And I learned how to create functions that take in a variety of types of values. "
   ]
  }
 ],
 "metadata": {
  "kernelspec": {
   "display_name": "Python 3 (ipykernel)",
   "language": "python",
   "name": "python3"
  },
  "language_info": {
   "codemirror_mode": {
    "name": "ipython",
    "version": 3
   },
   "file_extension": ".py",
   "mimetype": "text/x-python",
   "name": "python",
   "nbconvert_exporter": "python",
   "pygments_lexer": "ipython3",
   "version": "3.8.2"
  }
 },
 "nbformat": 4,
 "nbformat_minor": 5
}
